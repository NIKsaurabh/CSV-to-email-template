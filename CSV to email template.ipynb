{
 "cells": [
  {
   "cell_type": "markdown",
   "metadata": {},
   "source": [
    "Write a Script(R/Python) which fetch the detail from the CSV and create an email template.\n",
    "Things need to do:\n",
    "\n",
    "1. Fetch the Detail like name, email, email Body, email subject and create email template for each individuals. \n",
    "2. Check and fetch email address from the email body section if any present and store it in another CSV. \n",
    "3. Check and fetch mail number from the email body section if any present and store it in another CSV.\n",
    "\n",
    "\n",
    "Email template to be made:\n",
    "\n",
    "Email to :jbutt@luminate.ai\n",
    "\n",
    "Subject Line:When EMVX creation comes the message \"The creation was canceled for hardware reasons\".\n",
    "\n",
    "Hi James Butt, \n",
    "\n",
    "I have a nearly unreadable font in my Warehouse Software under Export-File Options for 2 days.Please do contact me at 504-621-8927\n",
    "\n",
    "Please do contact me at 504-845-1427\n",
    "\n",
    "Thanks,\n",
    "\n",
    "Rob Willison    \n",
    "\n",
    "In the above email body one phone number is present that is 504-621-8927 which should be fetch and store in another CSV.\n"
   ]
  },
  {
   "cell_type": "code",
   "execution_count": 196,
   "metadata": {},
   "outputs": [],
   "source": [
    "import numpy as np\n",
    "import pandas as pd\n",
    "import re"
   ]
  },
  {
   "cell_type": "code",
   "execution_count": 197,
   "metadata": {},
   "outputs": [],
   "source": [
    "dataset = pd.read_csv('sample_email.csv',encoding='latin1')"
   ]
  },
  {
   "cell_type": "code",
   "execution_count": 198,
   "metadata": {},
   "outputs": [
    {
     "data": {
      "text/html": [
       "<div>\n",
       "<style scoped>\n",
       "    .dataframe tbody tr th:only-of-type {\n",
       "        vertical-align: middle;\n",
       "    }\n",
       "\n",
       "    .dataframe tbody tr th {\n",
       "        vertical-align: top;\n",
       "    }\n",
       "\n",
       "    .dataframe thead th {\n",
       "        text-align: right;\n",
       "    }\n",
       "</style>\n",
       "<table border=\"1\" class=\"dataframe\">\n",
       "  <thead>\n",
       "    <tr style=\"text-align: right;\">\n",
       "      <th></th>\n",
       "      <th>first_name</th>\n",
       "      <th>last_name</th>\n",
       "      <th>company_name</th>\n",
       "      <th>address</th>\n",
       "      <th>city</th>\n",
       "      <th>county</th>\n",
       "      <th>state</th>\n",
       "      <th>zip</th>\n",
       "      <th>phone1</th>\n",
       "      <th>phone</th>\n",
       "      <th>email</th>\n",
       "      <th>subject</th>\n",
       "      <th>Email Boby</th>\n",
       "    </tr>\n",
       "  </thead>\n",
       "  <tbody>\n",
       "    <tr>\n",
       "      <th>0</th>\n",
       "      <td>James</td>\n",
       "      <td>Butt</td>\n",
       "      <td>Benton, John B Jr</td>\n",
       "      <td>6649 N Blue Gum St</td>\n",
       "      <td>New Orleans</td>\n",
       "      <td>Orleans</td>\n",
       "      <td>LA</td>\n",
       "      <td>70116</td>\n",
       "      <td>504-621-8927</td>\n",
       "      <td>504-845-1427</td>\n",
       "      <td>jbutt@luminate.ai</td>\n",
       "      <td>When EMVX creation comes the message \"The crea...</td>\n",
       "      <td>I have a nearly unreadable font in my Warehous...</td>\n",
       "    </tr>\n",
       "    <tr>\n",
       "      <th>1</th>\n",
       "      <td>Josephine</td>\n",
       "      <td>Darakjy</td>\n",
       "      <td>Chanay, Jeffrey A Esq</td>\n",
       "      <td>4 B Blue Ridge Blvd</td>\n",
       "      <td>Brighton</td>\n",
       "      <td>Livingston</td>\n",
       "      <td>MI</td>\n",
       "      <td>48116</td>\n",
       "      <td>810-292-9388</td>\n",
       "      <td>810-374-9840</td>\n",
       "      <td>josephine_darakjy@luminate.ai</td>\n",
       "      <td>It falters when processing highly segmented p...</td>\n",
       "      <td>On Saturday the version WAREHOUSE Sales firstc...</td>\n",
       "    </tr>\n",
       "    <tr>\n",
       "      <th>2</th>\n",
       "      <td>Art</td>\n",
       "      <td>Venere</td>\n",
       "      <td>Chemel, James L Cpa</td>\n",
       "      <td>8 W Cerritos Ave #54</td>\n",
       "      <td>Bridgeport</td>\n",
       "      <td>Gloucester</td>\n",
       "      <td>NJ</td>\n",
       "      <td>8014</td>\n",
       "      <td>856-636-8749</td>\n",
       "      <td>856-264-4130</td>\n",
       "      <td>art@luminate.ai</td>\n",
       "      <td>Cwvemx files falter in Sales firstclass 20</td>\n",
       "      <td>In export mode, the font in the small preview ...</td>\n",
       "    </tr>\n",
       "    <tr>\n",
       "      <th>3</th>\n",
       "      <td>Lenna</td>\n",
       "      <td>Paprocki</td>\n",
       "      <td>Feltz Printing Service</td>\n",
       "      <td>639 Main St</td>\n",
       "      <td>Anchorage</td>\n",
       "      <td>Anchorage</td>\n",
       "      <td>AK</td>\n",
       "      <td>99501</td>\n",
       "      <td>907-385-4412</td>\n",
       "      <td>907-921-2010</td>\n",
       "      <td>lpaprocki@luminate.ai</td>\n",
       "      <td>When creating EM / EMVX with Windows 7, it ma...</td>\n",
       "      <td>On my specificationsheet, the text blocks are ...</td>\n",
       "    </tr>\n",
       "    <tr>\n",
       "      <th>4</th>\n",
       "      <td>Donette</td>\n",
       "      <td>Foller</td>\n",
       "      <td>Printing Dimensions</td>\n",
       "      <td>34 Center St</td>\n",
       "      <td>Hamilton</td>\n",
       "      <td>Butler</td>\n",
       "      <td>OH</td>\n",
       "      <td>45011</td>\n",
       "      <td>513-570-1893</td>\n",
       "      <td>513-549-4561</td>\n",
       "      <td>donette.foller@luminate.ai</td>\n",
       "      <td>Drivers for the USB Process Manager could not...</td>\n",
       "      <td>Since your update come strange bubbles on my s...</td>\n",
       "    </tr>\n",
       "  </tbody>\n",
       "</table>\n",
       "</div>"
      ],
      "text/plain": [
       "  first_name last_name            company_name               address  \\\n",
       "0      James      Butt       Benton, John B Jr    6649 N Blue Gum St   \n",
       "1  Josephine   Darakjy   Chanay, Jeffrey A Esq   4 B Blue Ridge Blvd   \n",
       "2        Art    Venere     Chemel, James L Cpa  8 W Cerritos Ave #54   \n",
       "3      Lenna  Paprocki  Feltz Printing Service           639 Main St   \n",
       "4    Donette    Foller     Printing Dimensions          34 Center St   \n",
       "\n",
       "          city      county state    zip        phone1         phone  \\\n",
       "0  New Orleans     Orleans    LA  70116  504-621-8927  504-845-1427   \n",
       "1     Brighton  Livingston    MI  48116  810-292-9388  810-374-9840   \n",
       "2   Bridgeport  Gloucester    NJ   8014  856-636-8749  856-264-4130   \n",
       "3    Anchorage   Anchorage    AK  99501  907-385-4412  907-921-2010   \n",
       "4     Hamilton      Butler    OH  45011  513-570-1893  513-549-4561   \n",
       "\n",
       "                           email  \\\n",
       "0              jbutt@luminate.ai   \n",
       "1  josephine_darakjy@luminate.ai   \n",
       "2                art@luminate.ai   \n",
       "3          lpaprocki@luminate.ai   \n",
       "4     donette.foller@luminate.ai   \n",
       "\n",
       "                                             subject  \\\n",
       "0  When EMVX creation comes the message \"The crea...   \n",
       "1   It falters when processing highly segmented p...   \n",
       "2         Cwvemx files falter in Sales firstclass 20   \n",
       "3   When creating EM / EMVX with Windows 7, it ma...   \n",
       "4   Drivers for the USB Process Manager could not...   \n",
       "\n",
       "                                          Email Boby  \n",
       "0  I have a nearly unreadable font in my Warehous...  \n",
       "1  On Saturday the version WAREHOUSE Sales firstc...  \n",
       "2  In export mode, the font in the small preview ...  \n",
       "3  On my specificationsheet, the text blocks are ...  \n",
       "4  Since your update come strange bubbles on my s...  "
      ]
     },
     "execution_count": 198,
     "metadata": {},
     "output_type": "execute_result"
    }
   ],
   "source": [
    "dataset.head()"
   ]
  },
  {
   "cell_type": "code",
   "execution_count": 199,
   "metadata": {},
   "outputs": [
    {
     "data": {
      "text/plain": [
       "(49, 13)"
      ]
     },
     "execution_count": 199,
     "metadata": {},
     "output_type": "execute_result"
    }
   ],
   "source": [
    "dataset.shape"
   ]
  },
  {
   "cell_type": "code",
   "execution_count": 200,
   "metadata": {},
   "outputs": [
    {
     "name": "stdout",
     "output_type": "stream",
     "text": [
      "<class 'pandas.core.frame.DataFrame'>\n",
      "RangeIndex: 49 entries, 0 to 48\n",
      "Data columns (total 13 columns):\n",
      "first_name      49 non-null object\n",
      "last_name       49 non-null object\n",
      "company_name    49 non-null object\n",
      "address         49 non-null object\n",
      "city            49 non-null object\n",
      "county          49 non-null object\n",
      "state           49 non-null object\n",
      "zip             49 non-null int64\n",
      "phone1          49 non-null object\n",
      "phone           49 non-null object\n",
      "email           49 non-null object\n",
      "subject         49 non-null object\n",
      "Email Boby      49 non-null object\n",
      "dtypes: int64(1), object(12)\n",
      "memory usage: 5.1+ KB\n"
     ]
    }
   ],
   "source": [
    "dataset.info()"
   ]
  },
  {
   "cell_type": "code",
   "execution_count": 201,
   "metadata": {},
   "outputs": [
    {
     "data": {
      "text/plain": [
       "first_name      False\n",
       "last_name       False\n",
       "company_name    False\n",
       "address         False\n",
       "city            False\n",
       "county          False\n",
       "state           False\n",
       "zip             False\n",
       "phone1          False\n",
       "phone           False\n",
       "email           False\n",
       "subject         False\n",
       "Email Boby      False\n",
       "dtype: bool"
      ]
     },
     "execution_count": 201,
     "metadata": {},
     "output_type": "execute_result"
    }
   ],
   "source": [
    "dataset.isnull().any()"
   ]
  },
  {
   "cell_type": "code",
   "execution_count": 202,
   "metadata": {
    "scrolled": true
   },
   "outputs": [],
   "source": [
    "import csv\n",
    "csv_file = 'sample_email.csv'\n",
    "txt_file = 'template'\n",
    "with open(txt_file, \"w\") as my_output_file:\n",
    "    with open(csv_file, \"r\",encoding='latin1') as my_input_file:\n",
    "        csv_reader = csv.reader(my_input_file)\n",
    "        next(csv_reader)\n",
    "        for i,row in enumerate(csv_reader,start=1):\n",
    "            my_output_file.write(str(i)+'.'+'\\n')\n",
    "            my_output_file.write('Email to :'+row[10]+'\\n')\n",
    "            my_output_file.write('Subject Line:'+row[11]+'\\n')\n",
    "            my_output_file.write('Hi '+row[0]+' '+row[1]+'\\n')\n",
    "            my_output_file.write(row[-1]+'\\n')\n",
    "            my_output_file.write('Please do contact me at '+row[9]+'\\n')\n",
    "            my_output_file.write('Thanks,'+'\\n')\n",
    "            my_output_file.write('Rob Williamson'+'\\n\\n')\n",
    "    my_output_file.close()"
   ]
  },
  {
   "cell_type": "code",
   "execution_count": 203,
   "metadata": {},
   "outputs": [],
   "source": [
    "email_body = dataset['Email Boby']"
   ]
  },
  {
   "cell_type": "code",
   "execution_count": 204,
   "metadata": {},
   "outputs": [],
   "source": [
    "emails = []\n",
    "for i in email_body:\n",
    "    temp = re.findall('\\S+@\\S+.\\S',i)\n",
    "    if len(temp)>0:\n",
    "        emails.append(temp)"
   ]
  },
  {
   "cell_type": "code",
   "execution_count": 205,
   "metadata": {},
   "outputs": [
    {
     "data": {
      "text/plain": [
       "[['asergi@yahoo.com'], ['calbares@gmail.com'], ['asergi@gmail.com']]"
      ]
     },
     "execution_count": 205,
     "metadata": {},
     "output_type": "execute_result"
    }
   ],
   "source": [
    "emails"
   ]
  },
  {
   "cell_type": "code",
   "execution_count": 206,
   "metadata": {},
   "outputs": [],
   "source": [
    "emails = pd.DataFrame(emails)\n",
    "emails.rename(columns={0:'Emails'},inplace=True)"
   ]
  },
  {
   "cell_type": "code",
   "execution_count": 207,
   "metadata": {},
   "outputs": [],
   "source": [
    "emails.to_csv('emails.csv')"
   ]
  },
  {
   "cell_type": "code",
   "execution_count": 208,
   "metadata": {},
   "outputs": [],
   "source": [
    "phone_number = []\n",
    "for i in email_body:\n",
    "    temp = re.findall('[0-9]+-[0-9]+-[0-9]+',i)\n",
    "    if len(temp)>0:\n",
    "        phone_number.append(temp)"
   ]
  },
  {
   "cell_type": "code",
   "execution_count": 209,
   "metadata": {},
   "outputs": [
    {
     "data": {
      "text/plain": [
       "[['504-621-8927'], ['123-456-7890']]"
      ]
     },
     "execution_count": 209,
     "metadata": {},
     "output_type": "execute_result"
    }
   ],
   "source": [
    "phone_number"
   ]
  },
  {
   "cell_type": "code",
   "execution_count": 210,
   "metadata": {},
   "outputs": [],
   "source": [
    "phone_number = pd.DataFrame(phone_number)\n",
    "phone_number.rename(columns={0:'Phone Number'},inplace=True)"
   ]
  },
  {
   "cell_type": "code",
   "execution_count": 211,
   "metadata": {},
   "outputs": [],
   "source": [
    "phone_number.to_csv('phone number.csv')"
   ]
  },
  {
   "cell_type": "code",
   "execution_count": 212,
   "metadata": {},
   "outputs": [],
   "source": [
    "mail_number = []\n",
    "for i in email_body:\n",
    "    temp = re.findall('RR\\S+',i)\n",
    "    if len(temp)>0:\n",
    "        mail_number.append(temp)"
   ]
  },
  {
   "cell_type": "code",
   "execution_count": 213,
   "metadata": {},
   "outputs": [
    {
     "data": {
      "text/plain": [
       "[]"
      ]
     },
     "execution_count": 213,
     "metadata": {},
     "output_type": "execute_result"
    }
   ],
   "source": [
    "mail_number #there is no any mail number"
   ]
  },
  {
   "cell_type": "code",
   "execution_count": null,
   "metadata": {},
   "outputs": [],
   "source": []
  }
 ],
 "metadata": {
  "kernelspec": {
   "display_name": "Python 3",
   "language": "python",
   "name": "python3"
  },
  "language_info": {
   "codemirror_mode": {
    "name": "ipython",
    "version": 3
   },
   "file_extension": ".py",
   "mimetype": "text/x-python",
   "name": "python",
   "nbconvert_exporter": "python",
   "pygments_lexer": "ipython3",
   "version": "3.6.10"
  }
 },
 "nbformat": 4,
 "nbformat_minor": 4
}
